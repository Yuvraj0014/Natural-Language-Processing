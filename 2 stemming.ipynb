{
 "cells": [
  {
   "cell_type": "code",
   "execution_count": 2,
   "metadata": {},
   "outputs": [],
   "source": [
    "words = [\n",
    "    \"Running\", \"Jumps\", \"Studies\", \"Flying\", \"Cried\", \n",
    "    \"Quickly\", \"Happier\", \"Better\", \"Leaves\", \"Cats\", \n",
    "    \"Caring\", \"Going\", \"Marries\", \"Bigger\", \"Boys\", \n",
    "    \"Wolves\", \"Went\", \"Easily\", \"Fatter\", \"Player\"\n",
    "]"
   ]
  },
  {
   "cell_type": "markdown",
   "metadata": {},
   "source": [
    "1. using Porter Stemmer"
   ]
  },
  {
   "cell_type": "code",
   "execution_count": 3,
   "metadata": {},
   "outputs": [],
   "source": [
    "# porter stemmer\n",
    "from nltk.stem import PorterStemmer"
   ]
  },
  {
   "cell_type": "code",
   "execution_count": 4,
   "metadata": {},
   "outputs": [],
   "source": [
    "stemming=PorterStemmer()"
   ]
  },
  {
   "cell_type": "code",
   "execution_count": 5,
   "metadata": {},
   "outputs": [
    {
     "name": "stdout",
     "output_type": "stream",
     "text": [
      "Running---->run\n",
      "Jumps---->jump\n",
      "Studies---->studi\n",
      "Flying---->fli\n",
      "Cried---->cri\n",
      "Quickly---->quickli\n",
      "Happier---->happier\n",
      "Better---->better\n",
      "Leaves---->leav\n",
      "Cats---->cat\n",
      "Caring---->care\n",
      "Going---->go\n",
      "Marries---->marri\n",
      "Bigger---->bigger\n",
      "Boys---->boy\n",
      "Wolves---->wolv\n",
      "Went---->went\n",
      "Easily---->easili\n",
      "Fatter---->fatter\n",
      "Player---->player\n"
     ]
    }
   ],
   "source": [
    "for word in words:\n",
    "    print(word+\"---->\"+stemming.stem(word))"
   ]
  },
  {
   "cell_type": "markdown",
   "metadata": {},
   "source": [
    "2. using Regular expression stemmer"
   ]
  },
  {
   "cell_type": "code",
   "execution_count": 37,
   "metadata": {},
   "outputs": [],
   "source": [
    "from nltk.stem import RegexpStemmer"
   ]
  },
  {
   "cell_type": "code",
   "execution_count": 38,
   "metadata": {},
   "outputs": [],
   "source": [
    "regexp_stemmer = RegexpStemmer('ing$|e$|s$|able$',min=4)"
   ]
  },
  {
   "cell_type": "code",
   "execution_count": 39,
   "metadata": {},
   "outputs": [
    {
     "name": "stdout",
     "output_type": "stream",
     "text": [
      "Runn Jump Studie Fly Cried Quickly Happier Better Leave Cat Car Go Marrie Bigger Boy Wolve Went Easily Fatter Player\n"
     ]
    }
   ],
   "source": [
    "stemmed_string = ' '.join([regexp_stemmer.stem(word) for word in words])\n",
    "print(stemmed_string)"
   ]
  },
  {
   "cell_type": "markdown",
   "metadata": {},
   "source": [
    "3. snowball stemmer (BEST)"
   ]
  },
  {
   "cell_type": "code",
   "execution_count": 40,
   "metadata": {},
   "outputs": [],
   "source": [
    "from nltk.stem import SnowballStemmer"
   ]
  },
  {
   "cell_type": "code",
   "execution_count": 41,
   "metadata": {},
   "outputs": [],
   "source": [
    "snowball_stemmer=SnowballStemmer('english')"
   ]
  },
  {
   "cell_type": "code",
   "execution_count": 43,
   "metadata": {},
   "outputs": [
    {
     "name": "stdout",
     "output_type": "stream",
     "text": [
      "Running----->run\n",
      "Jumps----->jump\n",
      "Studies----->studi\n",
      "Flying----->fli\n",
      "Cried----->cri\n",
      "Quickly----->quick\n",
      "Happier----->happier\n",
      "Better----->better\n",
      "Leaves----->leav\n",
      "Cats----->cat\n",
      "Caring----->care\n",
      "Going----->go\n",
      "Marries----->marri\n",
      "Bigger----->bigger\n",
      "Boys----->boy\n",
      "Wolves----->wolv\n",
      "Went----->went\n",
      "Easily----->easili\n",
      "Fatter----->fatter\n",
      "Player----->player\n"
     ]
    }
   ],
   "source": [
    "for word in words:\n",
    "    print(word+'----->'+snowball_stemmer.stem(word))"
   ]
  },
  {
   "cell_type": "code",
   "execution_count": null,
   "metadata": {},
   "outputs": [],
   "source": []
  }
 ],
 "metadata": {
  "kernelspec": {
   "display_name": "venv",
   "language": "python",
   "name": "python3"
  },
  "language_info": {
   "codemirror_mode": {
    "name": "ipython",
    "version": 3
   },
   "file_extension": ".py",
   "mimetype": "text/x-python",
   "name": "python",
   "nbconvert_exporter": "python",
   "pygments_lexer": "ipython3",
   "version": "3.11.7"
  }
 },
 "nbformat": 4,
 "nbformat_minor": 2
}
