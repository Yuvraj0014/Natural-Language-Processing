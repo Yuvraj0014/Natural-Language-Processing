{
 "cells": [
  {
   "cell_type": "code",
   "execution_count": 1,
   "metadata": {},
   "outputs": [],
   "source": [
    "sentence=\"The Charminar is an iconic monument and mosque located in Hyderabad, India. It was built in 1591 by Muhammad Quli Qutb Shah, the fifth sultan of the Qutb Shahi dynasty. The structure stands at the center of the old city and is known for its distinctive four minarets, each 56 meters tall. The Charminar was constructed to commemorate the eradication of a plague epidemic from the city. Its architecture blends Persian, Indo-Islamic, and Hindu styles. The monument has four stories, with each floor featuring intricate stucco decorations. The Charminar is not only a religious site but also a major tourist attraction and symbol of Hyderabad's rich cultural heritage.\""
   ]
  },
  {
   "cell_type": "code",
   "execution_count": 5,
   "metadata": {},
   "outputs": [],
   "source": [
    "import nltk\n",
    "tokens=nltk.word_tokenize(sentence)"
   ]
  },
  {
   "cell_type": "code",
   "execution_count": 6,
   "metadata": {},
   "outputs": [],
   "source": [
    "pos_tags=nltk.pos_tag(tokens)"
   ]
  },
  {
   "cell_type": "code",
   "execution_count": 8,
   "metadata": {},
   "outputs": [
    {
     "name": "stderr",
     "output_type": "stream",
     "text": [
      "[nltk_data] Downloading package words to\n",
      "[nltk_data]     C:\\Users\\yuvra\\AppData\\Roaming\\nltk_data...\n",
      "[nltk_data]   Package words is already up-to-date!\n",
      "[nltk_data] Downloading package maxent_ne_chunker to\n",
      "[nltk_data]     C:\\Users\\yuvra\\AppData\\Roaming\\nltk_data...\n",
      "[nltk_data]   Package maxent_ne_chunker is already up-to-date!\n"
     ]
    },
    {
     "data": {
      "text/plain": [
       "True"
      ]
     },
     "execution_count": 8,
     "metadata": {},
     "output_type": "execute_result"
    }
   ],
   "source": [
    "import nltk\n",
    "nltk.download('words')\n",
    "nltk.download('maxent_ne_chunker')"
   ]
  },
  {
   "cell_type": "code",
   "execution_count": 18,
   "metadata": {},
   "outputs": [
    {
     "data": {
      "text/plain": [
       "<bound method Tree.draw of Tree('S', [('The', 'DT'), Tree('ORGANIZATION', [('Charminar', 'NNP')]), ('is', 'VBZ'), ('an', 'DT'), ('iconic', 'JJ'), ('monument', 'NN'), ('and', 'CC'), ('mosque', 'NN'), ('located', 'VBN'), ('in', 'IN'), Tree('GPE', [('Hyderabad', 'NNP')]), (',', ','), Tree('GPE', [('India', 'NNP')]), ('.', '.'), ('It', 'PRP'), ('was', 'VBD'), ('built', 'VBN'), ('in', 'IN'), ('1591', 'CD'), ('by', 'IN'), Tree('PERSON', [('Muhammad', 'NNP'), ('Quli', 'NNP'), ('Qutb', 'NNP'), ('Shah', 'NNP')]), (',', ','), ('the', 'DT'), ('fifth', 'JJ'), ('sultan', 'NN'), ('of', 'IN'), ('the', 'DT'), Tree('ORGANIZATION', [('Qutb', 'NNP'), ('Shahi', 'NNP')]), ('dynasty', 'NN'), ('.', '.'), ('The', 'DT'), ('structure', 'NN'), ('stands', 'VBZ'), ('at', 'IN'), ('the', 'DT'), ('center', 'NN'), ('of', 'IN'), ('the', 'DT'), ('old', 'JJ'), ('city', 'NN'), ('and', 'CC'), ('is', 'VBZ'), ('known', 'VBN'), ('for', 'IN'), ('its', 'PRP$'), ('distinctive', 'JJ'), ('four', 'CD'), ('minarets', 'NNS'), (',', ','), ('each', 'DT'), ('56', 'CD'), ('meters', 'NNS'), ('tall', 'JJ'), ('.', '.'), ('The', 'DT'), Tree('ORGANIZATION', [('Charminar', 'NNP')]), ('was', 'VBD'), ('constructed', 'VBN'), ('to', 'TO'), ('commemorate', 'VB'), ('the', 'DT'), ('eradication', 'NN'), ('of', 'IN'), ('a', 'DT'), ('plague', 'JJ'), ('epidemic', 'NN'), ('from', 'IN'), ('the', 'DT'), ('city', 'NN'), ('.', '.'), ('Its', 'PRP$'), ('architecture', 'NN'), ('blends', 'VBZ'), Tree('GPE', [('Persian', 'JJ')]), (',', ','), ('Indo-Islamic', 'JJ'), (',', ','), ('and', 'CC'), Tree('ORGANIZATION', [('Hindu', 'NNP')]), ('styles', 'NNS'), ('.', '.'), ('The', 'DT'), ('monument', 'NN'), ('has', 'VBZ'), ('four', 'CD'), ('stories', 'NNS'), (',', ','), ('with', 'IN'), ('each', 'DT'), ('floor', 'NN'), ('featuring', 'VBG'), ('intricate', 'JJ'), ('stucco', 'NN'), ('decorations', 'NNS'), ('.', '.'), ('The', 'DT'), Tree('ORGANIZATION', [('Charminar', 'NNP')]), ('is', 'VBZ'), ('not', 'RB'), ('only', 'RB'), ('a', 'DT'), ('religious', 'JJ'), ('site', 'NN'), ('but', 'CC'), ('also', 'RB'), ('a', 'DT'), ('major', 'JJ'), ('tourist', 'NN'), ('attraction', 'NN'), ('and', 'CC'), ('symbol', 'NN'), ('of', 'IN'), Tree('GPE', [('Hyderabad', 'NNP')]), (\"'s\", 'POS'), ('rich', 'JJ'), ('cultural', 'JJ'), ('heritage', 'NN'), ('.', '.')])>"
      ]
     },
     "execution_count": 18,
     "metadata": {},
     "output_type": "execute_result"
    }
   ],
   "source": [
    "nltk.ne_chunk(pos_tags).draw"
   ]
  },
  {
   "cell_type": "code",
   "execution_count": 15,
   "metadata": {},
   "outputs": [
    {
     "name": "stdout",
     "output_type": "stream",
     "text": [
      "Collecting matplotlib\n",
      "  Using cached matplotlib-3.9.2-cp311-cp311-win_amd64.whl.metadata (11 kB)\n",
      "Collecting contourpy>=1.0.1 (from matplotlib)\n",
      "  Using cached contourpy-1.3.0-cp311-cp311-win_amd64.whl.metadata (5.4 kB)\n",
      "Collecting cycler>=0.10 (from matplotlib)\n",
      "  Using cached cycler-0.12.1-py3-none-any.whl.metadata (3.8 kB)\n",
      "Collecting fonttools>=4.22.0 (from matplotlib)\n",
      "  Using cached fonttools-4.54.1-cp311-cp311-win_amd64.whl.metadata (167 kB)\n",
      "Collecting kiwisolver>=1.3.1 (from matplotlib)\n",
      "  Using cached kiwisolver-1.4.7-cp311-cp311-win_amd64.whl.metadata (6.4 kB)\n",
      "Requirement already satisfied: numpy>=1.23 in d:\\nlp\\venv\\lib\\site-packages (from matplotlib) (2.1.2)\n",
      "Requirement already satisfied: packaging>=20.0 in d:\\nlp\\venv\\lib\\site-packages (from matplotlib) (24.1)\n",
      "Requirement already satisfied: pillow>=8 in d:\\nlp\\venv\\lib\\site-packages (from matplotlib) (10.4.0)\n",
      "Collecting pyparsing>=2.3.1 (from matplotlib)\n",
      "  Using cached pyparsing-3.1.4-py3-none-any.whl.metadata (5.1 kB)\n",
      "Requirement already satisfied: python-dateutil>=2.7 in d:\\nlp\\venv\\lib\\site-packages (from matplotlib) (2.9.0.post0)\n",
      "Requirement already satisfied: six>=1.5 in d:\\nlp\\venv\\lib\\site-packages (from python-dateutil>=2.7->matplotlib) (1.16.0)\n",
      "Using cached matplotlib-3.9.2-cp311-cp311-win_amd64.whl (7.8 MB)\n",
      "Using cached contourpy-1.3.0-cp311-cp311-win_amd64.whl (217 kB)\n",
      "Using cached cycler-0.12.1-py3-none-any.whl (8.3 kB)\n",
      "Using cached fonttools-4.54.1-cp311-cp311-win_amd64.whl (2.2 MB)\n",
      "Using cached kiwisolver-1.4.7-cp311-cp311-win_amd64.whl (56 kB)\n",
      "Using cached pyparsing-3.1.4-py3-none-any.whl (104 kB)\n",
      "Installing collected packages: pyparsing, kiwisolver, fonttools, cycler, contourpy, matplotlib\n",
      "Successfully installed contourpy-1.3.0 cycler-0.12.1 fonttools-4.54.1 kiwisolver-1.4.7 matplotlib-3.9.2 pyparsing-3.1.4\n",
      "Note: you may need to restart the kernel to use updated packages.\n"
     ]
    }
   ],
   "source": [
    "# to diaplay the tree\n",
    "!pip install matplotlib\n"
   ]
  },
  {
   "cell_type": "code",
   "execution_count": 16,
   "metadata": {},
   "outputs": [],
   "source": [
    "from nltk import Tree\n",
    "import matplotlib.pyplot as plt"
   ]
  },
  {
   "cell_type": "code",
   "execution_count": 23,
   "metadata": {},
   "outputs": [],
   "source": [
    "from nltk import Tree\n",
    "\n",
    "# Constructing the tree\n",
    "tree = Tree('S', [\n",
    "    ('The', 'DT'),\n",
    "    Tree('ORGANIZATION', [('Charminar', 'NNP')]),\n",
    "    ('is', 'VBZ'),\n",
    "    ('an', 'DT'),\n",
    "    ('iconic', 'JJ'),\n",
    "    ('monument', 'NN'),\n",
    "    ('and', 'CC'),\n",
    "    ('mosque', 'NN'),\n",
    "    ('located', 'VBN'),\n",
    "    ('in', 'IN'),\n",
    "    Tree('GPE', [('Hyderabad', 'NNP')]),\n",
    "    (',', ','),\n",
    "    Tree('GPE', [('India', 'NNP')]),\n",
    "    ('.', '.'),\n",
    "    ('It', 'PRP'),\n",
    "    ('was', 'VBD'),\n",
    "    ('built', 'VBN'),\n",
    "    ('in', 'IN'),\n",
    "    ('1591', 'CD'),\n",
    "    ('by', 'IN'),\n",
    "    Tree('PERSON', [('Muhammad', 'NNP'), ('Quli', 'NNP'), ('Qutb', 'NNP'), ('Shah', 'NNP')]),\n",
    "    (',', ','),\n",
    "    ('the', 'DT'),\n",
    "    ('fifth', 'JJ'),\n",
    "    ('sultan', 'NN'),\n",
    "    ('of', 'IN'),\n",
    "    ('the', 'DT'),\n",
    "    Tree('ORGANIZATION', [('Qutb', 'NNP'), ('Shahi', 'NNP')]),\n",
    "    ('dynasty', 'NN'),\n",
    "    ('.', '.')\n",
    "])\n",
    "\n",
    "# Draw the tree\n",
    "tree.draw()\n",
    "tree.draw()"
   ]
  },
  {
   "cell_type": "code",
   "execution_count": null,
   "metadata": {},
   "outputs": [],
   "source": []
  }
 ],
 "metadata": {
  "kernelspec": {
   "display_name": "venv",
   "language": "python",
   "name": "python3"
  },
  "language_info": {
   "codemirror_mode": {
    "name": "ipython",
    "version": 3
   },
   "file_extension": ".py",
   "mimetype": "text/x-python",
   "name": "python",
   "nbconvert_exporter": "python",
   "pygments_lexer": "ipython3",
   "version": "3.11.7"
  }
 },
 "nbformat": 4,
 "nbformat_minor": 2
}
